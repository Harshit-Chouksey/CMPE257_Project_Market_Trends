{
  "nbformat": 4,
  "nbformat_minor": 0,
  "metadata": {
    "colab": {
      "provenance": [],
      "mount_file_id": "1O7W4GWQQD6zls90iuj0GhSnixWq-MacU",
      "authorship_tag": "ABX9TyPkzg4oueXvRIgu9Ekax/MN",
      "include_colab_link": true
    },
    "kernelspec": {
      "name": "python3",
      "display_name": "Python 3"
    },
    "language_info": {
      "name": "python"
    }
  },
  "cells": [
    {
      "cell_type": "markdown",
      "metadata": {
        "id": "view-in-github",
        "colab_type": "text"
      },
      "source": [
        "<a href=\"https://colab.research.google.com/github/Harshit-Chouksey/CMPE257_Project_Market_Trends/blob/main/Random_Forest/Predicting_movement/Just_Predict_the_Movement.ipynb\" target=\"_parent\"><img src=\"https://colab.research.google.com/assets/colab-badge.svg\" alt=\"Open In Colab\"/></a>"
      ]
    },
    {
      "cell_type": "code",
      "execution_count": 9,
      "metadata": {
        "colab": {
          "base_uri": "https://localhost:8080/"
        },
        "id": "OVKdMy5O7M3p",
        "outputId": "612ef394-d147-4298-8756-6e9a2a2a611c"
      },
      "outputs": [
        {
          "output_type": "stream",
          "name": "stdout",
          "text": [
            "\r[*********************100%%**********************]  1 of 1 completed\n",
            "Training Time: 1.2555952072143555 seconds\n",
            "Actual movement from 2023-12-07 to 2023-12-08 was up.\n",
            "Predicted movement for 2023-12-08 was up.\n"
          ]
        }
      ],
      "source": [
        "import yfinance as yf\n",
        "import pandas as pd\n",
        "from sklearn.ensemble import RandomForestRegressor\n",
        "import matplotlib.pyplot as plt\n",
        "import time\n",
        "\n",
        "def get_stock_data(ticker, start_date, end_date):\n",
        "    stock_data = yf.download(ticker, start=start_date, end=end_date)\n",
        "    return stock_data\n",
        "\n",
        "def create_features(data):\n",
        "    data['Date'] = data.index\n",
        "    data['Year'] = data['Date'].dt.year\n",
        "    data['Month'] = data['Date'].dt.month\n",
        "    data['Day'] = data['Date'].dt.day\n",
        "    data = data.drop(['Date'], axis=1)\n",
        "    return data\n",
        "\n",
        "def train_random_forest(data):\n",
        "    X = data.drop(['Close'], axis=1)\n",
        "    y = data['Close']\n",
        "\n",
        "    model = RandomForestRegressor(n_estimators=200,\n",
        "                                  max_depth=10,\n",
        "                                  min_samples_split=2,\n",
        "                                  min_samples_leaf=1,\n",
        "                                  max_features=None,\n",
        "                                  random_state=42)\n",
        "\n",
        "    start_time = time.time()\n",
        "\n",
        "\n",
        "    model.fit(X, y)\n",
        "\n",
        "\n",
        "    training_time = time.time() - start_time\n",
        "    print(f'Training Time: {training_time} seconds')\n",
        "\n",
        "    return model, X.columns\n",
        "\n",
        "\n",
        "def predict_price_movement(model, data, feature_columns, target_date):\n",
        "\n",
        "    target_date = pd.to_datetime(target_date)\n",
        "\n",
        "\n",
        "    most_recent_data = data.iloc[-1]\n",
        "\n",
        "\n",
        "    feature_data = {col: most_recent_data[col] for col in feature_columns}\n",
        "    feature_data['Year'] = target_date.year\n",
        "    feature_data['Month'] = target_date.month\n",
        "    feature_data['Day'] = target_date.day\n",
        "\n",
        "    feature_set = pd.DataFrame([feature_data])\n",
        "\n",
        "\n",
        "    predicted_price = model.predict(feature_set)[0]\n",
        "\n",
        "    return predicted_price\n",
        "\n",
        "if __name__ == \"__main__\":\n",
        "\n",
        "    stock_symbol = 'MSFT'\n",
        "    end_date = pd.to_datetime('today')\n",
        "    start_date = end_date - pd.DateOffset(years=5)\n",
        "\n",
        "\n",
        "    stock_data = get_stock_data(stock_symbol, start_date, end_date)\n",
        "\n",
        "\n",
        "    stock_data_features = create_features(stock_data)\n",
        "\n",
        "\n",
        "    model, feature_columns = train_random_forest(stock_data_features)\n",
        "\n",
        "\n",
        "    target_date = pd.Timestamp('2023-12-08')\n",
        "    predicted_price = predict_price_movement(model, stock_data_features, feature_columns, target_date)\n",
        "\n",
        "\n",
        "    previous_date = pd.Timestamp('2023-12-07')\n",
        "    actual_price_previous = stock_data_features.loc[previous_date, 'Close'] if previous_date in stock_data_features.index else None\n",
        "    actual_price_target = stock_data_features.loc[target_date, 'Close'] if target_date in stock_data_features.index else None\n",
        "\n",
        "    if actual_price_previous and actual_price_target:\n",
        "        actual_movement = \"up\" if actual_price_target > actual_price_previous else \"down\"\n",
        "        predicted_movement = \"up\" if predicted_price > actual_price_previous else \"down\"\n",
        "        print(f\"Actual movement from {previous_date.date()} to {target_date.date()} was {actual_movement}.\")\n",
        "        print(f\"Predicted movement for {target_date.date()} was {predicted_movement}.\")\n",
        "    else:\n",
        "        print(\"Insufficient data for the required dates.\")\n"
      ]
    }
  ]
}